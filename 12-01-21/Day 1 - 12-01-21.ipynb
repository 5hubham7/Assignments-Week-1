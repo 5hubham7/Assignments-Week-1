{
 "cells": [
  {
   "cell_type": "markdown",
   "metadata": {},
   "source": [
    "### Name: Shubham S. Yadav\n",
    "### Date: 12-01-21"
   ]
  },
  {
   "cell_type": "markdown",
   "metadata": {},
   "source": [
    "### Matrix Multiplication"
   ]
  },
  {
   "cell_type": "code",
   "execution_count": 1,
   "metadata": {},
   "outputs": [
    {
     "name": "stdout",
     "output_type": "stream",
     "text": [
      "[38, 17, 23, 29]\n",
      "[83, 44, 59, 74]\n",
      "[128, 71, 95, 119]\n"
     ]
    }
   ],
   "source": [
    "def matrixMul(arr1, arr2):\n",
    "    \n",
    "    arr3 = [[0 for i in range(len(arr2[0]))]\n",
    "            for i in range(len(arr1))]\n",
    "    \n",
    "    for i in range(len(arr1)):\n",
    "        for j in range(len(arr2[0])):\n",
    "            for k in range(len(arr2)):\n",
    "                arr3[i][j] += arr1[i][k] * arr2[k][j]\n",
    "    return arr3\n",
    "\n",
    "\n",
    "mat1 = [[1, 2, 3],\n",
    "        [4 , 5, 6],\n",
    "        [7 ,8, 9]]\n",
    "\n",
    "mat2 = [[1, 2, 3, 4],\n",
    "        [5, 6, 7, 8],\n",
    "        [9, 1, 2, 3]]\n",
    "\n",
    "result = matrixMul(mat1, mat2)\n",
    "\n",
    "for row in result:\n",
    "    print(row)"
   ]
  },
  {
   "cell_type": "markdown",
   "metadata": {},
   "source": [
    "### Print a triangle"
   ]
  },
  {
   "cell_type": "code",
   "execution_count": 2,
   "metadata": {},
   "outputs": [
    {
     "name": "stdout",
     "output_type": "stream",
     "text": [
      "Enter the number:5\n",
      "     1\n",
      "    212\n",
      "   32123\n",
      "  4321234\n"
     ]
    }
   ],
   "source": [
    "k = n = int(input(\"Enter the number:\"))\n",
    "\n",
    "for i in range(1, n):\n",
    "    \n",
    "    print(\" \" * (k), end=\"\")\n",
    "    k -= 1\n",
    "    \n",
    "    for j in range(-i + 1, i):\n",
    "        print(abs(j) + 1, end=\"\")\n",
    "        \n",
    "    print()\n"
   ]
  },
  {
   "cell_type": "markdown",
   "metadata": {},
   "source": [
    "### Find the Square root of a input number."
   ]
  },
  {
   "cell_type": "code",
   "execution_count": 3,
   "metadata": {
    "scrolled": true
   },
   "outputs": [
    {
     "name": "stdout",
     "output_type": "stream",
     "text": [
      "Enter the number: 6\n",
      "Not a perfect square, try again:7\n",
      "Not a perfect square, try again:8\n",
      "Not a perfect square, try again:9\n",
      "square root:  3\n"
     ]
    }
   ],
   "source": [
    "def getSqrrt(num):\n",
    "    \n",
    "    if num < 0:\n",
    "        getSqrrt(int(input(\"Number cannot be negative, try again:\")))\n",
    "    \n",
    "    if num == 4:\n",
    "        print(\"Square root: 2\")\n",
    "\n",
    "    else:\n",
    "        for i in range(0, round(num / 2)):\n",
    "            if (num == i * i):\n",
    "                print(\"square root: \", i)\n",
    "                break\n",
    "        else:\n",
    "            getSqrrt(int(input(\"Not a perfect square, try again:\")))\n",
    "\n",
    "getSqrrt(int(input(\"Enter the number: \")))"
   ]
  },
  {
   "cell_type": "markdown",
   "metadata": {},
   "source": [
    "### Another approach"
   ]
  },
  {
   "cell_type": "code",
   "execution_count": 4,
   "metadata": {},
   "outputs": [
    {
     "data": {
      "text/plain": [
       "12"
      ]
     },
     "execution_count": 4,
     "metadata": {},
     "output_type": "execute_result"
    }
   ],
   "source": [
    "int(144 ** 0.5)"
   ]
  },
  {
   "cell_type": "code",
   "execution_count": 5,
   "metadata": {},
   "outputs": [
    {
     "name": "stdout",
     "output_type": "stream",
     "text": [
      "Enter the number: 623\n",
      "Not a perfect square, try again:624\n",
      "Not a perfect square, try again:625\n",
      "Square root 25\n"
     ]
    }
   ],
   "source": [
    "def getSqrrt(num):\n",
    "    \n",
    "    if num < 0:\n",
    "        getSqrrt(int(input(\"Number cannot be negative, try again:\")))\n",
    "    \n",
    "    else:\n",
    "        sqrrt = num ** (.5)\n",
    "        \n",
    "        if (sqrrt == int(sqrrt)):\n",
    "            print(\"Square root\", int(sqrrt))\n",
    "            \n",
    "        else:\n",
    "            getSqrrt(int(input(\"Not a perfect square, try again:\")))\n",
    "\n",
    "getSqrrt(int(input(\"Enter the number: \"))) "
   ]
  },
  {
   "cell_type": "markdown",
   "metadata": {},
   "source": [
    "### Simple sum of array"
   ]
  },
  {
   "cell_type": "code",
   "execution_count": 6,
   "metadata": {},
   "outputs": [
    {
     "name": "stdout",
     "output_type": "stream",
     "text": [
      "55\n"
     ]
    }
   ],
   "source": [
    "def sumArr(arr1):\n",
    "    sum = 0\n",
    "    for i in range(len(arr1)):\n",
    "        sum += arr1[i]\n",
    "        \n",
    "    return sum\n",
    "\n",
    "arr1 = [i for i in range(1, 11)]\n",
    "print(sum(arr1))"
   ]
  },
  {
   "cell_type": "markdown",
   "metadata": {},
   "source": [
    "### Given a square matrix, calculate the absolute difference between the sums of its diagonals."
   ]
  },
  {
   "cell_type": "code",
   "execution_count": 7,
   "metadata": {},
   "outputs": [
    {
     "name": "stdout",
     "output_type": "stream",
     "text": [
      "8\n"
     ]
    }
   ],
   "source": [
    "def diff(arr1):\n",
    "    diff1 = diff2 = 0\n",
    "    for i in range(len(arr1)):\n",
    "        for j in range(len(arr1[i])):\n",
    "            if i == j:\n",
    "                diff1 += arr1[i][j]\n",
    "            if i == len(arr1[i]) - j - 1:\n",
    "                diff2 += (arr1[i][j])\n",
    "    return abs(diff1 - diff2) \n",
    "\n",
    "arr1 = [[1, 2, 3, 4],\n",
    "        [5, 6, 7, 8],\n",
    "        [9, 9, 8, 7],\n",
    "        [6, 5, 4, 3]]\n",
    "print(diff(arr1))"
   ]
  },
  {
   "cell_type": "markdown",
   "metadata": {},
   "source": [
    "Given an array of integers, determine the minimum number of elements to delete to leave only elements of equal value."
   ]
  },
  {
   "cell_type": "code",
   "execution_count": 8,
   "metadata": {},
   "outputs": [
    {
     "name": "stdout",
     "output_type": "stream",
     "text": [
      "5\n"
     ]
    }
   ],
   "source": [
    "def minNum(arr1):\n",
    "    occ = dict()\n",
    "    for i in range(len(arr1)):\n",
    "        occ[arr1[i]] = arr1.count(arr1[i])\n",
    "    return len(arr1) - occ.get(max(occ))\n",
    "\n",
    "arr1 = [1, 2, 3, 3, 4, 5, 5, 5]\n",
    "print(minNum(arr1))"
   ]
  },
  {
   "cell_type": "code",
   "execution_count": null,
   "metadata": {},
   "outputs": [],
   "source": []
  }
 ],
 "metadata": {
  "kernelspec": {
   "display_name": "Python 3",
   "language": "python",
   "name": "python3"
  },
  "language_info": {
   "codemirror_mode": {
    "name": "ipython",
    "version": 3
   },
   "file_extension": ".py",
   "mimetype": "text/x-python",
   "name": "python",
   "nbconvert_exporter": "python",
   "pygments_lexer": "ipython3",
   "version": "3.9.1"
  }
 },
 "nbformat": 4,
 "nbformat_minor": 4
}
